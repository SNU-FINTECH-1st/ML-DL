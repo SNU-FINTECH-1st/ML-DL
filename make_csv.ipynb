{
 "cells": [
  {
   "cell_type": "code",
   "execution_count": 5,
   "metadata": {},
   "outputs": [
    {
     "name": "stdout",
     "output_type": "stream",
     "text": [
      "모든 JSON 파일이 'combined_output.csv'에 성공적으로 저장되었습니다.\n"
     ]
    }
   ],
   "source": [
    "import os\n",
    "import json\n",
    "import csv\n",
    "import glob\n",
    "\n",
    "# 최상위 폴더 경로\n",
    "root_folder_path = r'/Users/parkjunhui/Downloads/Sample/02.라벨링데이터/02. 경상도'\n",
    "csv_file_path = 'combined_output.csv'\n",
    "\n",
    "# CSV 파일 작성\n",
    "with open(csv_file_path, 'w', newline='', encoding='utf-8') as csvfile:\n",
    "    csvwriter = csv.writer(csvfile)\n",
    "    \n",
    "    # 헤더 작성\n",
    "    csvwriter.writerow(['index','filename','sentenceid' ,'dialect', 'pronunciation', 'standard'])\n",
    "\n",
    "    # 모든 JSON 파일을 찾기 위해 하위 폴더까지 탐색\n",
    "    for folder_name, subfolders, filenames in os.walk(root_folder_path):\n",
    "        for filename in filenames:\n",
    "            if filename.endswith('.json'):\n",
    "                json_file_path = os.path.join(folder_name, filename)\n",
    "                \n",
    "                # JSON 파일 읽기\n",
    "                with open(json_file_path, 'r', encoding='utf-8') as file:\n",
    "                    data = json.load(file)\n",
    "                \n",
    "                # JSON 데이터에서 'segments' 리스트 추출\n",
    "                segments = data['transcription']['sentences']\n",
    "                filename = data['fileName']\n",
    "                \n",
    "                # 각 segment에 대해 데이터 추출 및 CSV 행 작성\n",
    "                for segment in segments:\n",
    "                    speaker_id = segment['speakerId']\n",
    "                    sentence_id = segment['sentenceId']\n",
    "                    index = f\"{filename}_{sentence_id}\"\n",
    "                    dialect = segment['dialect']\n",
    "                    pronunciation = segment['pronunciation']\n",
    "                    standard = segment['standard']\n",
    "                    \n",
    "                    # CSV 파일에 행 추가\n",
    "                    csvwriter.writerow([index,filename ,sentence_id  ,dialect, pronunciation, standard])\n",
    "\n",
    "print(f\"모든 JSON 파일이 '{csv_file_path}'에 성공적으로 저장되었습니다.\")"
   ]
  },
  {
   "cell_type": "code",
   "execution_count": null,
   "metadata": {},
   "outputs": [],
   "source": []
  }
 ],
 "metadata": {
  "kernelspec": {
   "display_name": "base",
   "language": "python",
   "name": "python3"
  },
  "language_info": {
   "codemirror_mode": {
    "name": "ipython",
    "version": 3
   },
   "file_extension": ".py",
   "mimetype": "text/x-python",
   "name": "python",
   "nbconvert_exporter": "python",
   "pygments_lexer": "ipython3",
   "version": "3.11.9"
  }
 },
 "nbformat": 4,
 "nbformat_minor": 2
}
